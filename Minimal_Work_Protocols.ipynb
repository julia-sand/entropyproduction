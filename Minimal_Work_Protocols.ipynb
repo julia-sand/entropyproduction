{
  "cells": [
    {
      "cell_type": "markdown",
      "metadata": {
        "id": "ibq1HI7U3yEm"
      },
      "source": [
        "Minimal-work protocols for inertial particles in non-harmonic traps"
      ]
    },
    {
      "cell_type": "markdown",
      "metadata": {
        "id": "Er5TNQb6Dxma"
      },
      "source": [
        "###Installation"
      ]
    },
    {
      "cell_type": "markdown",
      "metadata": {
        "id": "a3uMcvJ897kV"
      },
      "source": [
        "We need the following imports"
      ]
    },
    {
      "cell_type": "code",
      "execution_count": null,
      "metadata": {
        "id": "T2W_QZVB0jwB"
      },
      "outputs": [],
      "source": [
        "import pandas as pd\n",
        "import numpy as np\n",
        "import numpy.random as npr\n",
        "import ot #Python Optimal transport\n",
        "\n",
        "from scipy.ndimage import median_filter,generic_filter\n",
        "import scipy.ndimage as sc\n",
        "import scipy.interpolate as sci\n",
        "import scipy.constants as constant\n",
        "import scipy.signal as signal\n",
        "\n",
        "from sklearn.neighbors import KernelDensity\n",
        "\n",
        "#Plotting\n",
        "import matplotlib.pyplot as plt\n",
        "import matplotlib.gridspec as gridspec\n",
        "from matplotlib import cm\n",
        "import matplotlib.patches as mpatches\n",
        "import matplotlib.lines as mlines\n",
        "from mpl_toolkits.axes_grid1.inset_locator import inset_axes\n",
        "from matplotlib.legend_handler import HandlerLine2D, HandlerTuple\n",
        "from matplotlib.legend_handler import HandlerBase\n"
      ]
    },
    {
      "cell_type": "markdown",
      "metadata": {
        "id": "EOHO-nmgnjrH"
      },
      "source": [
        "###Boundary Conditions"
      ]
    },
    {
      "cell_type": "markdown",
      "metadata": {
        "id": "O3dL51CrRFc2"
      },
      "source": [
        "Set up the time discretisation"
      ]
    },
    {
      "cell_type": "code",
      "execution_count": null,
      "metadata": {
        "id": "vOd7S-WX5f7t"
      },
      "outputs": [],
      "source": [
        "#initialise expansion parameters and time discretisation\n",
        "epsilon = 0.2\n",
        "T = 2 #final time for t0\n",
        "Tf = (epsilon**2)*T  #final time for t2\n",
        "h_step = 0.0001#FOR T=2 use: 0.0001 #for histograms: 0.0001\n",
        "#decimal places for the time lookup.\n",
        "dps =  int(np.ceil(-np.log10(h_step))+1)\n",
        "t_steps = int(Tf/h_step) + 1 #number of timesteps\n",
        "t2_vec = np.round(np.linspace(0,Tf,t_steps,endpoint = True),dps)\n"
      ]
    },
    {
      "cell_type": "markdown",
      "metadata": {
        "id": "m8a3laMY44cl"
      },
      "source": [
        "We begin by initialising the boundary conditions."
      ]
    },
    {
      "cell_type": "code",
      "execution_count": null,
      "metadata": {
        "colab": {
          "base_uri": "https://localhost:8080/",
          "height": 54
        },
        "id": "pZUcp2cu0oaF",
        "outputId": "972a3812-a140-4714-8dcd-cb296a6279d7"
      },
      "outputs": [
        {
          "output_type": "display_data",
          "data": {
            "text/plain": [
              "<Figure size 640x480 with 1 Axes>"
            ],
            "image/png": "[encoded data removed]"
          },
          "metadata": {}
        }
      ],
      "source": [
        "#boundary conditions\n",
        "n = 25000  # number of samples in the histograms\n",
        "\n",
        "#set up the boundary conditions\n",
        "peak_center = 1\n",
        "denom = 1\n",
        "xmin = -5\n",
        "xmax = 5\n",
        "\n",
        "q = np.linspace(xmin,xmax,n) #fixed axes of points\n",
        "qnorm = np.linspace(-15,15,500000) #used for computing the normalisation\n",
        "qchoice = np.linspace(xmin,xmax,n*100) #points to choose from for histograms\n",
        "\n",
        "\n",
        "#exact boundary conditions\n",
        "def p_initial_unnormalised(q):\n",
        "  return np.exp(-(q-peak_center)**4/denom)\n",
        "def p_final_unnormalised(q):\n",
        "  return np.exp(-(((q**2 -peak_center**2)**2)/denom))\n",
        "\n",
        "#compute normalisation constacomputents\n",
        "p_initialnorm = p_initial_unnormalised(qnorm)\n",
        "p_finalnorm = p_final_unnormalised(qnorm)\n",
        "pi_norm = np.abs(np.trapz(p_initialnorm,qnorm))\n",
        "pf_norm = np.abs(np.trapz(p_finalnorm,qnorm))\n",
        "\n",
        "#normalised boundary conds\n",
        "def p_initial(q):\n",
        "  return p_initial_unnormalised(q)/pi_norm\n",
        "def p_final(q):\n",
        "  return p_final_unnormalised(q)/pf_norm\n",
        "\n",
        "\n",
        "pi = p_initial(q)\n",
        "pf = p_final(q)\n",
        "pi /= sum(pi)\n",
        "pf /= sum(pf)\n",
        "\n",
        "#visualise the initial conditions\n",
        "plt.plot(q,pi,label=\"Initial\")\n",
        "plt.plot(q,pf,label=\"Final\")\n",
        "plt.legend()\n",
        "plt.show()"
      ]
    },
    {
      "cell_type": "code",
      "execution_count": null,
      "metadata": {
        "id": "HxPIz07BnpEH"
      },
      "outputs": [],
      "source": [
        "#get weights of samples\n",
        "pichoice = p_initial(qchoice)\n",
        "pfchoice = p_final(qchoice)\n",
        "pichoice /= sum(pichoice)\n",
        "pfchoice /= sum(pfchoice)"
      ]
    },
    {
      "cell_type": "markdown",
      "metadata": {
        "id": "7ymSo8FKD0rC"
      },
      "source": [
        "###Optimal Assignment\n"
      ]
    },
    {
      "cell_type": "markdown",
      "metadata": {
        "id": "i_7jONeX5wwa"
      },
      "source": [
        "Now that this is set up, we can solve the Optimal Transport problem, that is, the cell problem at second order, Eqs (5)."
      ]
    },
    {
      "cell_type": "code",
      "execution_count": null,
      "metadata": {
        "id": "HE4iIWmu03dd"
      },
      "outputs": [],
      "source": [
        "#make histograms of points\n",
        "xs = npr.choice(qchoice, size = n, p = pichoice)\n",
        "xt = npr.choice(qchoice, size = n, p = pfchoice)\n",
        "\n",
        "#solve OT problem using Python OT\n",
        "G0_data = ot.emd2_1d(xs.reshape((n, 1)), xt.reshape((n, 1)),log=True)\n",
        "\n",
        "#save the assignment and W2 distance\n",
        "G0 = G0_data[1][\"G\"]\n",
        "w2_dist = G0_data[0]"
      ]
    },
    {
      "cell_type": "markdown",
      "metadata": {
        "id": "J5uXWctO6Dtp"
      },
      "source": [
        "With the optimal assignment between points computed, we can now compute the trajectories of the point for a time discretisation given by t_range. This is done by a linear interpolation in time from beginning to end state, see eq. (8). This results in point clouds which are then used to estimate the intermediate densities. Additionally, we estimate the corresponding Burgers velocity ($\\partial\\lambda$) for these points.\n",
        "\n",
        "\n",
        "The cell problem is at second order in the expansion parameter epsilon, so we must rescale the final time.\n",
        "\n",
        "Finally the results are saved into a pandas dataframe."
      ]
    },
    {
      "cell_type": "code",
      "source": [
        "df_orig = pd.DataFrame()\n"
      ],
      "metadata": {
        "id": "UruQRO88isPR"
      },
      "execution_count": null,
      "outputs": []
    },
    {
      "cell_type": "code",
      "execution_count": null,
      "metadata": {
        "id": "Ufvw0caD0x8q"
      },
      "outputs": [],
      "source": [
        "#find lagrangian trajectories and burgers velocities\n",
        "def get_rho_lambda(i,G0,xt):\n",
        "\n",
        "  '''input:\n",
        "  - i: index of the initial coordinate\n",
        "  - t: time of evaluation\n",
        "\n",
        "  returns:\n",
        "  - l_map: approximation of the dynamic lagrangian map between the two distributions as a function of time\n",
        "  - dsigma_x: dsigma (burger's velocity) evaluated at time (index) and x (l_map)\n",
        "  '''\n",
        "\n",
        "  idx_j = 0\n",
        "\n",
        "  #get matching coordinate\n",
        "  for j in range(0,n):\n",
        "    if G0[i,j] > 0:\n",
        "      idx_j = j\n",
        "      break\n",
        "\n",
        "  #get initial and final points\n",
        "  xinit = xs[i]\n",
        "  xfinal = xt[idx_j]\n",
        "\n",
        "  #make (discrete) lagrangian maps\n",
        "  l_map = np.ones(t_steps)\n",
        "  for t in range(0,t_steps):\n",
        "    tcurr = t2_vec[t]\n",
        "    l_map[t] = ((Tf - tcurr)/Tf)*xinit + (tcurr/Tf)*xfinal\n",
        "\n",
        "  #get burgers velocity (dsigma)\n",
        "  dsigma_x = np.ones(t_steps)\n",
        "  for x in enumerate(l_map):\n",
        "    #evaluate sigma at x\n",
        "    dsigma_x[x[0]] = (1/Tf)*(xfinal - xinit)\n",
        "\n",
        "  return t2_vec,l_map,dsigma_x\n",
        "\n",
        "#ts = []\n",
        "#x_vals = []\n",
        "#dsigs = []\n",
        "\n",
        "\n",
        "for x in enumerate(xs):\n",
        "  result = get_rho_lambda(x[0],G0,xt)\n",
        "\n",
        "  #append straight to dataframe\n",
        "\n",
        "  #make new df with these\n",
        "\n",
        "  columns=[\"t\",\"x\",\"dsigma\"]\n",
        "\n",
        "  #append new\n",
        "  df2append = pd.DataFrame(dict(zip(columns, result)))\n",
        "  df_orig = pd.concat([df_orig,df2append])\n"
      ]
    },
    {
      "cell_type": "code",
      "execution_count": null,
      "metadata": {
        "id": "OMO8Ctgx9Q-C"
      },
      "outputs": [],
      "source": [
        "\n",
        "#sort by t\n",
        "df_orig.sort_values([\"t\",\"x\"],inplace=True)\n",
        "\n",
        "df_orig = df_orig.reset_index(drop=True)\n",
        "\n",
        "#round t2 column times to dps decimal places\n",
        "df_orig['t'] = df_orig['t'].apply(lambda u: round(u, dps))\n",
        "#round x col\n",
        "df_orig['x'] = df_orig['x'].apply(lambda u: round(u, 5))\n",
        "\n",
        "#sort colums\n",
        "df_orig.sort_values([\"t\",\"x\"],inplace=True)\n",
        "df_orig.reset_index(drop=True,inplace=True)\n",
        "\n",
        "#replace duplicates with mean of values\n",
        "df_orig = df_orig.groupby(['t','x']).mean().reset_index()"
      ]
    },
    {
      "cell_type": "markdown",
      "metadata": {
        "id": "p7pPfgy58nvD"
      },
      "source": [
        "The next step is to estimate the intermediate densities from the point clouds computed above. This is done through scikit-learns kernel density estimator.\n",
        "\n",
        "We start with an equally spaced x-axis to store the density. We also save the log-density for later use (as this is also computed by the KDE).  "
      ]
    },
    {
      "cell_type": "code",
      "source": [
        "#add new columns\n",
        "df_orig[\"ptx\"] = 1\n",
        "df_orig[\"logptx\"] = 1\n"
      ],
      "metadata": {
        "id": "6b2SuQSn-aUy"
      },
      "execution_count": null,
      "outputs": []
    },
    {
      "cell_type": "code",
      "execution_count": null,
      "metadata": {
        "id": "ulXPnWR41OPq"
      },
      "outputs": [],
      "source": [
        "\n",
        "#get a new equally spaced x for saving the results and integrating\n",
        "N = 5000\n",
        "x_axis = np.linspace(xmin,xmax,N)\n"
      ]
    },
    {
      "cell_type": "markdown",
      "metadata": {
        "id": "6X4OHfXI9wo5"
      },
      "source": [
        "The last step is to bring everything onto the same x-axis as the densities, that is the burger's velocities. This is done by a cubic interpolation from scipy.\n",
        "\n",
        "All the results are saved into a dataframe so they can be used in the next steps."
      ]
    },
    {
      "cell_type": "code",
      "execution_count": null,
      "metadata": {
        "id": "59YKNu3f95ir"
      },
      "outputs": [],
      "source": [
        "#make new neat dataframe with full xaxis\n",
        "df_new = pd.DataFrame()\n"
      ]
    },
    {
      "cell_type": "code",
      "execution_count": null,
      "metadata": {
        "id": "alZug4MY-quS"
      },
      "outputs": [],
      "source": [
        "\n",
        "for t2 in t2_vec:\n",
        "  xz = df_orig[df_orig.t == t2].x.to_numpy()\n",
        "  dsigmax = df_orig[df_orig.t == t2].dsigma.to_numpy()\n",
        "\n",
        "  #run kde on these points\n",
        "  kde = KernelDensity(kernel='epanechnikov', bandwidth=0.15).fit(xz.reshape(-1, 1))\n",
        "\n",
        "  #estimated pdf\n",
        "  logrho_temp = kde.score_samples(x_axis.reshape(-1, 1))\n",
        "  dens = np.exp(logrho_temp)\n",
        "\n",
        "  #interpolation of sigma\n",
        "  interp_dsigma = sci.interp1d(xz,dsigmax, kind='cubic', bounds_error=False, fill_value=(dsigmax[0], dsigmax[-1]), assume_sorted=True)\n",
        "\n",
        "  #make new df with these\n",
        "  data= [t2*np.ones(N), x_axis, interp_dsigma(x_axis),logrho_temp, dens]\n",
        "  columns=[\"t\",\"x\",\"dsigma\",\"logptx\",\"ptx\"]\n",
        "\n",
        "  #append new\n",
        "  df2append = pd.DataFrame(dict(zip(columns, data)))\n",
        "  df_new = pd.concat([df_new,df2append])\n",
        "\n",
        "#sort by\n",
        "df_new.sort_values([\"t\",\"x\"],inplace=True)\n",
        "\n",
        "df_new = df_new.reset_index(drop=True)"
      ]
    },
    {
      "cell_type": "markdown",
      "metadata": {
        "id": "xH18Rsfq9Yeq"
      },
      "source": [
        "Let's check that everything is saved and computed correctly by plotting some of the distributions and comparing them with the assigned initial and final conditions."
      ]
    },
    {
      "cell_type": "code",
      "execution_count": null,
      "metadata": {
        "id": "NkOiNCLYyVPt"
      },
      "outputs": [],
      "source": [
        "plt.plot(df_new[df_new.t == 0.2].x.to_numpy(),df_new[df_new.t == 0.2].ptx.to_numpy())\n",
        "\n",
        "plt.fill_between(q,p_final(q),color=\"orange\",alpha=0.5)\n",
        "plt.close()"
      ]
    },
    {
      "cell_type": "markdown",
      "metadata": {
        "id": "rdQ-1puM9dWy"
      },
      "source": [
        "Finally, we save our results as a CSV for later use."
      ]
    },
    {
      "cell_type": "code",
      "execution_count": null,
      "metadata": {
        "id": "u9GUFxxQqmNy"
      },
      "outputs": [],
      "source": [
        "df_new.to_csv(\"results1.csv\")"
      ]
    },
    {
      "cell_type": "markdown",
      "metadata": {
        "id": "q0YybBGvqxqI"
      },
      "source": [
        "##Computing the Corrections"
      ]
    },
    {
      "cell_type": "markdown",
      "metadata": {
        "id": "PxZW1DA5-VYz"
      },
      "source": [
        "We open the results from the previous section, and compute the mean and variance of the marginal distribution of the position. We also define several functions which will be useful later.  "
      ]
    },
    {
      "cell_type": "code",
      "execution_count": null,
      "metadata": {
        "id": "QOf1KAv3qwZj"
      },
      "outputs": [],
      "source": [
        "df = pd.read_csv(\"results1.csv\",index_col=0)\n",
        "\n",
        "#fill infs with zeros\n",
        "df.replace([np.inf,-np.inf,np.nan], 0, inplace=True)\n",
        "\n",
        "#size of median filter for taking the gradients\n",
        "filter_delta = 20\n",
        "\n",
        "##PARAMETERS\n",
        "g = 0.01\n",
        "\n",
        "def omega_fun(g=g):\n",
        "  return np.sqrt((1+g)/g)\n",
        "\n",
        "omega = omega_fun(g)\n",
        "\n",
        "t2_vec = df.t.unique()\n",
        "times_t0 = np.round(t2_vec/(epsilon**2),dps)\n",
        "\n",
        "#tolerance to zero.\n",
        "tol = 1e-10\n",
        "\n",
        "#constants\n",
        "def B_fun(T,g=g):\n",
        "  return -((1+g)/T)*np.tanh(omega*T/2)*(omega*np.tanh(T) - 2*np.tanh(omega*T/2))/(omega*np.tanh(omega*T/2) - 2*np.tanh(T))\n",
        "\n",
        "def A_fun(T,g=g):\n",
        "  return (1+g)*(1 - (((((1+g)/g) - 4)*(np.tanh(omega_fun(g)*T/2)*np.tanh(T)))/(omega_fun(g)*T*(omega_fun(g)*np.tanh(omega_fun(g)*T/2)-2*np.tanh(T)))))\n",
        "\n",
        "A = A_fun(T,g)\n",
        "B = B_fun(T,g)\n",
        "\n",
        "alpha = 0\n",
        "\n",
        "#clips values close to zero to prevent errors in logarithms\n",
        "def zchop(a,tol = tol):\n",
        "  \"\"\"\n",
        "  input: vector a\n",
        "  output: vector with values close to zero clipped.\n",
        "  \"\"\"\n",
        "  a[np.abs(a) < tol] = 0.0\n",
        "  return a\n",
        "\n",
        "#get qaxis\n",
        "def q_axis(t0):\n",
        "  t2 = round(t0*(epsilon**2),dps)\n",
        "  return df[df.t == t2].x.to_numpy()\n",
        "\n",
        "#function to get rho at time t0.\n",
        "def rho(t0):\n",
        "  t2 = round(t0*(epsilon**2),dps)\n",
        "  rho_temp = df[df.t==t2].ptx.to_numpy()\n",
        "  return zchop(rho_temp)\n",
        "\n",
        "\n",
        "#get all xcoords where there is probability mass\n",
        "def get_rhomask(t0):\n",
        "  return np.where(rho(t0)>0)\n",
        "\n",
        "def od_bound(T,g=g):\n",
        "  return (1/(1+g))*(w2_dist/(T*(epsilon**2)))\n",
        "\n",
        "\n",
        "#derivative functions\n",
        "def dsigma(t0):\n",
        "\n",
        "  t2 = round(t0*(epsilon**2),dps)\n",
        "  sigtemp = df[df.t==t2].dsigma.to_numpy()\n",
        "\n",
        "  return -sigtemp\n",
        "  #-generic_filter(sigtemp,sc.median,100,mode=\"nearest\")\n",
        "\n",
        "\n",
        "#used to compute cumulants and other functions\n",
        "def kappa(t0): #mu dot 1\n",
        "  integral = rho(t0) * dsigma(t0)\n",
        "  return -np.trapz(integral,q_axis(t0))\n"
      ]
    },
    {
      "cell_type": "code",
      "execution_count": null,
      "metadata": {
        "id": "z4btOG45YyLz"
      },
      "outputs": [],
      "source": [
        "\n",
        "#function to get underdamped distribution\n",
        "def distribution(t0):\n",
        "  t2 = round(t0*(epsilon**2),dps)\n",
        "  dist = df[df.t==t2].UDpdf.to_numpy()\n",
        "  return dist\n",
        "\n",
        "#function to get underdamped drift\n",
        "def optimal_drift(t0):\n",
        "  t2 = round(t0*(epsilon**2),dps)\n",
        "  drift_temp = df[df.t==t2].UDdrift.to_numpy()\n",
        "  return drift_temp\n",
        "\n",
        "def A_minus_B(T,g):\n",
        "  omega = omega_fun(g)\n",
        "\n",
        "  return (1+g)*(1-((2/(omega*T))*(np.tanh(omega*T/2))))\n",
        "\n",
        "def b(t0,g):\n",
        "  omega = np.sqrt((1+g)/g)\n",
        "\n",
        "  denom1 =np.cosh(T)*np.sinh(omega*T) -(2*np.sinh(T)*np.cosh(omega*T)+2*np.sinh(T))/omega\n",
        "\n",
        "  num3 = np.sinh(omega*(T-t0))*np.exp(-T)\n",
        "  num4 = np.sinh(omega*t0)*np.exp(T) - np.sinh(omega*T)*np.exp(2*t0 - T)\n",
        "  return (1/denom1)*(num3+num4)\n",
        "\n",
        "def a_minus_b2(t0,g):\n",
        "  omega = np.sqrt((1+g)/g)\n",
        "\n",
        "  return 1 -(np.cosh(omega*t0)+np.cosh(omega*(t0-T)))/(1+np.cosh(T*omega))\n",
        "\n",
        "def a(t0,g):\n",
        "\n",
        "  return a_minus_b2(t0,g) + b(t0,g)\n",
        "\n",
        "def b_dot(t0,g):\n",
        "  omega = np.sqrt((1+g)/g)\n",
        "\n",
        "  denom1 =np.cosh(T)*np.sinh(omega*T) -(2*np.sinh(T)*np.cosh(omega*T)+2*np.sinh(T))/omega\n",
        "\n",
        "  num3 = -omega*np.cosh(omega*(T-t0))*np.exp(-T)\n",
        "  num4 = omega*np.cosh(omega*t0)*np.exp(T) - 2*np.sinh(omega*T)*np.exp(2*t0 - T)\n",
        "  return (1/denom1)*(num3+num4)\n",
        "\n",
        "\n",
        "def a_dot(t0,g):\n",
        "  omega = np.sqrt((1+g)/g)\n",
        "\n",
        "  term1 = -(np.sinh(omega*t0)+np.sinh(omega*(t0-T)))/(1+np.cosh(T*omega))\n",
        "\n",
        "  return b_dot(t0,g) + omega*term1\n",
        "\n",
        "#mean and variances\n",
        "def mean_t0(t0):\n",
        "\n",
        "  t2 = round(t0*(epsilon**2),dps)\n",
        "  index_mean = np.where(t2_vec==t2)[0][0]\n",
        "\n",
        "  return mean_0[index_mean]\n",
        "\n",
        "def var_t0(t0):\n",
        "\n",
        "  t2 = round(t0*(epsilon**2),dps)\n",
        "  index_mean = np.where(t2_vec==t2)[0][0]\n",
        "\n",
        "  return var_0[index_mean]\n",
        "\n",
        "def dfun(vals,qs):\n",
        "  #finds numerical gradient using central differences and applies a small median filter to reduce outliers\n",
        "\n",
        "  dfun = np.gradient(vals,qs)\n",
        "\n",
        "  return generic_filter(dfun,sc.median,filter_delta,mode = \"nearest\")\n",
        "\n",
        "def dlogrho(t0):\n",
        "\n",
        "  t2 = round(t0*(epsilon**2),dps)\n",
        "  logrho = df[df.t==t2].logptx.to_numpy()\n",
        "\n",
        "  #get rid of nans\n",
        "  #interpolate only on non-zero vals of rho\n",
        "  idx = get_rhomask(t0)\n",
        "  logrho_temp = logrho[idx]\n",
        "  q_axis_temp = q_axis(t0)[idx]\n",
        "\n",
        "  #differentiate and filter without edges\n",
        "  dlogrho = np.gradient(logrho_temp,q_axis_temp)\n",
        "  filter_dlogrho = generic_filter(dlogrho,\n",
        "                 sc.median,filter_delta,mode=\"nearest\")\n",
        "\n",
        "  #put back into right place\n",
        "  dlogout = np.zeros(len(q_axis(t0)))\n",
        "  dlogout[idx] = filter_dlogrho\n",
        "\n",
        "  return dlogout\n",
        "\n",
        "def drho(t0):\n",
        "  rho_vals = rho(t0)\n",
        "\n",
        "  #interpolate only on non-zero vals of rho\n",
        "  idx = get_rhomask(t0)\n",
        "  rho_vals_temp = rho_vals[idx]\n",
        "  q_axis_temp = q_axis(t0)[idx]\n",
        "\n",
        "  drho = np.gradient(rho_vals_temp,q_axis_temp)\n",
        "\n",
        "  #set values outside of range to zero to prevent extrapolation error\n",
        "  drho_vals = np.zeros(len(q_axis(t0)))\n",
        "  drho_vals[idx] = generic_filter(drho,sc.median,filter_delta,mode=\"constant\")\n",
        "\n",
        "  return drho_vals\n",
        "\n",
        "def rho_dsigma_alpha_rho(t0):\n",
        "\n",
        "  rho_dsigma_alpha_rho = rho(t0)*dsigma(t0) + alpha*drho(t0)\n",
        "\n",
        "  #fill nan with zero\n",
        "  rho_dsigma_alpha_rho[np.isnan(rho_dsigma_alpha_rho)] = 0\n",
        "\n",
        "  return rho_dsigma_alpha_rho\n",
        "\n",
        "def dsigma_alpha_rho(t0):\n",
        "\n",
        "  dsigma_alpha_rho = dsigma(t0) + alpha*dlogrho(t0)\n",
        "\n",
        "  #fill nan with zero\n",
        "  dsigma_alpha_rho[np.isnan(dsigma_alpha_rho)] = 0\n",
        "\n",
        "  return dsigma_alpha_rho\n",
        "\n",
        "def rho_ddsigma_alpha_rho(t0):\n",
        "\n",
        "  #get drho\n",
        "  drhotemp = dlogrho(t0)\n",
        "\n",
        "  #remove zeros first\n",
        "  idx = get_rhomask(t0)\n",
        "  ddrhotemp = drhotemp[idx]\n",
        "  q_temp = q_axis(t0)[idx]\n",
        "  ddlogrho = np.gradient(ddrhotemp,q_temp)\n",
        "\n",
        "  ddlogrho = generic_filter(ddlogrho,sc.mean,filter_delta,mode=\"nearest\")\n",
        "\n",
        "  #get ddsigma\n",
        "  dsigtemp = dsigma(t0)\n",
        "  dsig_vals = dsigtemp[idx]\n",
        "  ddsigtemp = np.gradient(dsig_vals,q_temp)\n",
        "\n",
        "  temp_out = alpha*ddlogrho + generic_filter(ddsigtemp,sc.mean,filter_delta,mode=\"nearest\")\n",
        "\n",
        "  temp_vals_out = np.zeros(len(q_axis(t0)))\n",
        "  temp_vals_out[idx] = temp_out\n",
        "\n",
        "  output_vals = temp_vals_out*rho(t0)\n",
        "  return generic_filter(output_vals,sc.mean,size=filter_delta,mode=\"constant\")\n",
        "\n",
        "def script_k(t0):#varsigma dot/2\n",
        "  temp_vals = q_axis(t0)*rho_dsigma_alpha_rho(t0)\n",
        "  return -np.trapz(temp_vals,q_axis(t0)) - kappa(t0)*mean_t0(t0)\n"
      ]
    },
    {
      "cell_type": "markdown",
      "metadata": {
        "id": "pN0ftJ2yr2VE"
      },
      "source": [
        "###Total costs"
      ]
    },
    {
      "cell_type": "markdown",
      "metadata": {
        "id": "vQtQE2kkBWdL"
      },
      "source": [
        "This section estimates the total cost using equation (A10). It uses the results from the first section using different values of T as dataframes. We also compute the overdamped bound and compare this to the minimum squared Euclidean distance of the mapped points, these should be almost equal for sufficiently small $g$.  "
      ]
    },
    {
      "cell_type": "code",
      "execution_count": null,
      "metadata": {
        "id": "6jK9FgZJrgMN"
      },
      "outputs": [],
      "source": [
        "##These are the temporary functions until we need to use more T\n",
        "def entropy_production_cost(T=T,g=g):\n",
        "\n",
        "  kappa_sq = kappa(0)**2\n",
        "\n",
        "  integral_t0 = np.ones(len(times_t0))\n",
        "  for t0 in enumerate(times_t0):\n",
        "      temp = (dsigma(t0[1])**2)*rho(t0[1])\n",
        "      integral_t0[t0[0]] = np.trapz(temp,q_axis(t0[1]))\n",
        "\n",
        "  ep_integral1 = np.trapz(integral_t0,t2_vec)\n",
        "\n",
        "  integral_t0 *= 0\n",
        "  for t0 in enumerate(times_t0):\n",
        "      temp = (dsigma(t0[1])**2)*rho(t0[1])\n",
        "      integral_t0[t0[0]] = np.trapz(temp,q_axis(t0[1]))- kappa(t0[1])**2\n",
        "\n",
        "  ep_integral2 = np.trapz(integral_t0,t2_vec)\n",
        "  Ag = A_fun(T,g)\n",
        "\n",
        "  omg_sq = (1/g)+1\n",
        "  coeff1 = 1/(1+g)\n",
        "\n",
        "  coeff2 = (1-Ag+g)/((1*Ag)+(g*Ag))\n",
        "  coeff3 = (T*epsilon**2)*(1 - A_minus_B(T,g) + g )/((4*A_minus_B(T,g)+4*g*A_minus_B(T,g)))\n",
        "  ep = (coeff1)*ep_integral1 + coeff2*ep_integral2 + coeff3*(kappa_sq)\n",
        "\n",
        "  return ep\n",
        "\n",
        "def first_term(T=T,g=g):\n",
        "\n",
        "  kappa_sq = kappa(0)**2\n",
        "\n",
        "  integral_t0 = np.ones(len(times_t0))\n",
        "  for t0 in enumerate(times_t0):\n",
        "      temp = (dsigma(t0[1])**2)*rho(t0[1])\n",
        "      integral_t0[t0[0]] = np.trapz(temp,q_axis(t0[1]))\n",
        "\n",
        "  ep_integral1 = np.trapz(integral_t0,t2_vec)\n",
        "\n",
        "\n",
        "  omg_sq = (1/g)+1\n",
        "  coeff1 = 1/(1+g)\n",
        "\n",
        "  ep = (coeff1)*ep_integral1\n",
        "  return ep\n"
      ]
    },
    {
      "cell_type": "code",
      "execution_count": null,
      "metadata": {
        "id": "qcuJiZeLTRrD"
      },
      "outputs": [],
      "source": [
        "\n",
        "gs_temp = np.logspace(-9,-1,9)\n",
        "first_term1 = [first_term(2,gs) for gs in gs_temp]\n",
        "entropy_production_cost1 = [entropy_production_cost(2,gs) for gs in gs_temp]\n",
        "overdamped_bound = [od_bound(2,gs) for gs in gs_temp]\n",
        "\n",
        "\n"
      ]
    },
    {
      "cell_type": "code",
      "execution_count": null,
      "metadata": {
        "id": "EIdF9o90TnjR"
      },
      "outputs": [],
      "source": [
        "data = [gs_temp,np.ones(len(gs_temp))*T,first_term1,entropy_production_cost1,overdamped_bound]\n",
        "columns = [\"g\",\"Tf\",\"Firstterm\",\"EPcost\",\"ODBound\"]\n",
        "\n",
        "df_costs = pd.DataFrame(dict(zip(columns, data)))"
      ]
    },
    {
      "cell_type": "code",
      "execution_count": null,
      "metadata": {
        "colab": {
          "base_uri": "https://localhost:8080/",
          "height": 37
        },
        "id": "4f_k0AK2W4VA",
        "outputId": "5e06523e-0094-49cb-bd0c-4aa5d8e926fd"
      },
      "outputs": [
        {
          "output_type": "display_data",
          "data": {
            "text/plain": [
              "<IPython.core.display.Javascript object>"
            ],
            "application/javascript": [
              "\n",
              "    async function download(id, filename, size) {\n",
              "      if (!google.colab.kernel.accessAllowed) {\n",
              "        return;\n",
              "      }\n",
              "      const div = document.createElement('div');\n",
              "      const label = document.createElement('label');\n",
              "      label.textContent = `Downloading \"${filename}\": `;\n",
              "      div.appendChild(label);\n",
              "      const progress = document.createElement('progress');\n",
              "      progress.max = size;\n",
              "      div.appendChild(progress);\n",
              "      document.body.appendChild(div);\n",
              "\n",
              "      const buffers = [];\n",
              "      let downloaded = 0;\n",
              "\n",
              "      const channel = await google.colab.kernel.comms.open(id);\n",
              "      // Send a message to notify the kernel that we're ready.\n",
              "      channel.send({})\n",
              "\n",
              "      for await (const message of channel.messages) {\n",
              "        // Send a message to notify the kernel that we're ready.\n",
              "        channel.send({})\n",
              "        if (message.buffers) {\n",
              "          for (const buffer of message.buffers) {\n",
              "            buffers.push(buffer);\n",
              "            downloaded += buffer.byteLength;\n",
              "            progress.value = downloaded;\n",
              "          }\n",
              "        }\n",
              "      }\n",
              "      const blob = new Blob(buffers, {type: 'application/binary'});\n",
              "      const a = document.createElement('a');\n",
              "      a.href = window.URL.createObjectURL(blob);\n",
              "      a.download = filename;\n",
              "      div.appendChild(a);\n",
              "      a.click();\n",
              "      div.remove();\n",
              "    }\n",
              "  "
            ]
          },
          "metadata": {}
        },
        {
          "output_type": "display_data",
          "data": {
            "text/plain": [
              "<IPython.core.display.Javascript object>"
            ],
            "application/javascript": [
              "download(\"download_b8f3db78-ab4a-4c16-9df2-292eaefad88a\", \"df_ep_costsT2.csv\", 646)"
            ]
          },
          "metadata": {}
        }
      ],
      "source": [
        "#save as csv\n",
        "df_costs.to_csv(\"df_ep_costsT2.csv\")"
      ]
    },
    {
      "cell_type": "markdown",
      "metadata": {
        "id": "fgSkcmMfh3YW"
      },
      "source": [
        "###Marginal Density and Optimal Control"
      ]
    },
    {
      "cell_type": "markdown",
      "metadata": {
        "id": "Xq0h_CNMCJU_"
      },
      "source": [
        "This section calculates and saves the corrections to the marginal density of the position and also the optimal control."
      ]
    },
    {
      "cell_type": "code",
      "execution_count": null,
      "metadata": {
        "id": "mzGqtSyZYi1E"
      },
      "outputs": [],
      "source": [
        "\n",
        "#compute mean and variance using all data\n",
        "mean_0 = np.zeros(len(t2_vec))\n",
        "var_0 = np.zeros(len(t2_vec))\n",
        "\n",
        "for t2 in enumerate(t2_vec):\n",
        "  #get q-axis\n",
        "  q = df[df.t == t2[1]].x.to_numpy()\n",
        "  #get rho\n",
        "  rho_temp = df[df.t == t2[1]].ptx.to_numpy()\n",
        "  #compute first order mean and var as functions of t2\n",
        "  mean_0[t2[0]] = np.trapz(q*rho_temp,q)\n",
        "  var_0[t2[0]] = np.trapz((q**2)*rho_temp,q)\n"
      ]
    },
    {
      "cell_type": "code",
      "execution_count": null,
      "metadata": {
        "id": "-Ty13ohQh5De"
      },
      "outputs": [],
      "source": [
        "##\n",
        "def f11(t0,g=g):\n",
        "  Ag = A_fun(T,g)\n",
        "  Bg = A_fun(T,g)\n",
        "\n",
        "  rho_vals = rho(t0)\n",
        "\n",
        "  coeff1 = -a(t0,g)/Ag\n",
        "  num1 = rho_dsigma_alpha_rho(t0)\n",
        "\n",
        "  coeff2 = rho_vals *(Bg*a(t0,g) - Ag*b(t0,g))/(Ag*A_minus_B(T,g))\n",
        "\n",
        "  return coeff1*num1 + coeff2*kappa(t0)\n",
        "\n",
        "##\n",
        "def calculate_df11(t0,g=g):\n",
        "  Ag = A_fun(T,g)\n",
        "  Bg = B_fun(T,g)\n",
        "\n",
        "  drho_vals = drho(t0)\n",
        "\n",
        "  coeff1 = -a(t0,g)/Ag\n",
        "  num1 = (drho_vals*dsigma_alpha_rho(t0)) + rho_ddsigma_alpha_rho(t0)\n",
        "\n",
        "  num1[np.isnan(num1)] = 0\n",
        "  num1[np.isinf(num1)] = 0\n",
        "\n",
        "  coeff2 = (Bg*a(t0,g) - Ag*b(t0,g))/(Ag*A_minus_B(T,g))\n",
        "\n",
        "  df11_out = coeff1*num1 + coeff2*(kappa(t0)*drho_vals)# - (rho(t0)**2)*dsigma(t0))\n",
        "\n",
        "  return df11_out\n"
      ]
    },
    {
      "cell_type": "code",
      "execution_count": null,
      "metadata": {
        "id": "6ZB7RTZIdkDE"
      },
      "outputs": [],
      "source": [
        "\n",
        "#coefficients of derivative of f11\n",
        "def coeff1_df11(g,t0,T=T):\n",
        "  Ag = A_fun(T,g)\n",
        "  coeff1 = -a(t0,g)/Ag\n",
        "  return coeff1\n",
        "\n",
        "def coeff2_df11(g,t0,T=T):\n",
        "  Ag = A_fun(T,g)\n",
        "  Bg = B_fun(T,g)\n",
        "  coeff2 = (Bg*a(t0,g) - Ag*b(t0,g))/(Ag*A_minus_B(T,g))\n",
        "  return coeff2\n",
        "\n",
        "\n",
        "#compute the correction to position marginal densities\n",
        "def f02_new(t0,g=g,T=T):\n",
        "\n",
        "  #fetch the constants in t2\n",
        "  t2_term1 = drho(t0)*dsigma_alpha_rho(t0) + rho_ddsigma_alpha_rho(t0)\n",
        "  t2_termrho = drho(t0)*kappa(t0)\n",
        "\n",
        "  term1 = -g*(coeff1_df11(g,t0,T)*t2_term1 + coeff2_df11(g,t0,T)*t2_termrho)\n",
        "\n",
        "  int_limit = np.where(times_t0==t0)[0][0] + 1\n",
        "  coeff1_df11_temp = [coeff1_df11(g,t,T)*t2_term1 for t in times_t0]\n",
        "  coeff2_df11_temp = [coeff2_df11(g,t,T)*t2_termrho for t in times_t0]\n",
        "\n",
        "  coeff1_int1 = (t0/T)*np.trapz(coeff1_df11_temp,times_t0,axis=0)\n",
        "  coeff2_int1 = (t0/T)*np.trapz(coeff2_df11_temp,times_t0,axis=0)\n",
        "\n",
        "  coeff1_int2 = np.trapz(coeff1_df11_temp[0:int_limit],times_t0[0:int_limit],axis=0)\n",
        "  coeff2_int2 = np.trapz(coeff2_df11_temp[0:int_limit],times_t0[0:int_limit],axis=0)\n",
        "\n",
        "  return term1 + (1+g)*(coeff1_int1 + coeff2_int1 - (coeff1_int2 + coeff2_int2))\n"
      ]
    },
    {
      "cell_type": "code",
      "execution_count": null,
      "metadata": {
        "id": "Z2FIDjACFg_r"
      },
      "outputs": [],
      "source": [
        "def calculate_distribution(t0,g=g):\n",
        "  rvals = rho(t0)+ (epsilon**2)*f02_new(t0)\n",
        "\n",
        "  #find normalising factor\n",
        "  norm_factor = np.trapz(np.abs(rvals),q_axis(t0))\n",
        "\n",
        "  return rvals / norm_factor\n",
        "\n",
        "def calculate_optimal_drift(t0,g=g): #-DU\n",
        "  Ag = A_fun(T,g)\n",
        "  Bg = B_fun(T,g)\n",
        "\n",
        "  coeff1 = (a_dot(t0,g) + a(t0,g))/Ag\n",
        "\n",
        "  term1 = (alpha*coeff1 - 1)*dlogrho(t0)\n",
        "  term2 = coeff1*dsigma(t0)\n",
        "\n",
        "  coeff3 = kappa(t0)/(Ag*A_minus_B(T,g))\n",
        "  #kappa(t0)/(A*(A-B))\n",
        "  term3 = (Bg*a_dot(t0,g) - Ag*b_dot(t0,g)) + (Bg*a(t0,g) - Ag*b(t0,g))\n",
        "  opt_drift = term1 + term2 - coeff3*term3\n",
        "\n",
        "  opt_drift[np.isnan(opt_drift)] = 0\n",
        "  opt_drift[np.isinf(opt_drift)] = 0\n",
        "\n",
        "  return -opt_drift\n",
        "\n",
        "df['UDpdf'] = 1\n",
        "df['UDdrift'] = 1\n",
        "\n",
        "##add distributions as function to get sigma\n",
        "for t0 in times_t0:\n",
        "  t2 = round(t0*(epsilon**2),dps)\n",
        "  new_vals = calculate_distribution(t0)\n",
        "  drift_vals = calculate_optimal_drift(t0)\n",
        "  df.loc[df[df.t==t2].index,\"UDpdf\"] = new_vals\n",
        "  df.loc[df[df.t==t2].index,\"UDdrift\"] = drift_vals\n",
        "\n"
      ]
    },
    {
      "cell_type": "markdown",
      "metadata": {
        "id": "8aPS6KAvgXYG"
      },
      "source": [
        "###Cumulants"
      ]
    },
    {
      "cell_type": "markdown",
      "metadata": {
        "id": "EgyOlllVCVOA"
      },
      "source": [
        "Finally, this section computes the cumulants and saves them to a dataframe."
      ]
    },
    {
      "cell_type": "code",
      "execution_count": null,
      "metadata": {
        "id": "pTv3zJnwisZR"
      },
      "outputs": [],
      "source": [
        "gs = np.logspace(-1,-4,4)\n",
        "\n",
        "####Cumulant functions\n",
        "\n",
        "def omega_fun(g):\n",
        "  return np.sqrt((1+g)/g)\n",
        "\n",
        "def A_fun(T,g):\n",
        "  return (1+g)*(1 - (((((1+g)/g) - 4)*(np.tanh(omega_fun(g)*T/2)*np.tanh(T)))/(omega_fun(g)*T*(omega_fun(g)*np.tanh(omega_fun(g)*T/2)-2*np.tanh(T)))))\n",
        "\n",
        "##\n",
        "def mom_mean(t0,g):\n",
        "\n",
        "  A_minus_B = (1+g)*(1-((2/(omega_fun(g)*T))*(np.tanh(omega_fun(g)*T/2))))\n",
        "  return epsilon*(a_minus_b2(t0,g))*kappa(t0)/A_minus_B\n",
        "\n",
        "#momentum variance - ONLY FOR EP.\n",
        "def momentum_variance(t0,g):\n",
        "  Ag = A_fun(T,g)\n",
        "\n",
        "  term1 = 1 - (((kappa(t0)*epsilon/Ag)*a(t0,g))**2)\n",
        "  int1 = np.trapz(rho_ddsigma_alpha_rho(t0),q_axis(t0))/Ag\n",
        "  int_limit = np.where(times_t0==t0)[0][0] + 1\n",
        "\n",
        "  aexp_temp = [a(t,g)*int1*np.exp(-2*(t0-t)) for t in times_t0]\n",
        "  int2 = np.trapz(aexp_temp[0:int_limit],times_t0[0:int_limit],axis =0)\n",
        "\n",
        "  term2 = 2*(epsilon**2)*int2\n",
        "\n",
        "  sq_temp = ((dsigma(t0))**2)*rho(t0)\n",
        "\n",
        "  term3 = (((epsilon)*a(t0,g)/Ag)**2)*np.trapz(sq_temp,q_axis(t0))\n",
        "\n",
        "  return term1 + term2 + term3\n",
        "\n",
        "\n",
        "#cross correlation\n",
        "def cross_correlation(t0,g):\n",
        "  Ag = A_fun(T,g)\n",
        "  return epsilon*a(t0,g)*script_k(t0)/Ag\n",
        "\n",
        "#position process variance\n",
        "def position_variance_g(t0,g):\n",
        "  Ag = A_fun(T,g)\n",
        "  term1 = var_t0(t0) - (mean_t0(t0)**2)\n",
        "  term2 = 2*(epsilon**2)*g*a(t0,g)*script_k(t0)/Ag\n",
        "\n",
        "  coeff3 = -2*script_k(t0)*(epsilon**2)*(1+g)/Ag\n",
        "\n",
        "  int_limit = np.where(times_t0==t0)[0][0] + 1\n",
        "  a_temp = [a(t,g) for t in times_t0]\n",
        "\n",
        "  int1 = (t0/T)*np.trapz(a_temp,times_t0,axis =0)\n",
        "  int2 = np.trapz(a_temp[0:int_limit],times_t0[0:int_limit],axis =0)\n",
        "  return term1 + term2 + coeff3*(int1 - int2)\n",
        "\n",
        "#linear position cumulant aka position mean\n",
        "def linear_position_cumulant(t0,g):\n",
        "  Ag = A_fun(T,g)\n",
        "  A_minus_B = (1+g)*(1-((2/(omega_fun(g)*T))*(np.tanh(omega_fun(g)*T/2))))\n",
        "\n",
        "  term1 = mean_t0(t0) + kappa(t0)*(epsilon**2)*g*(a_minus_b2(t0,g))/A_minus_B\n",
        "  coeff2 = (epsilon**2)*(1+g)*kappa(t0)/A_minus_B\n",
        "  int_limit = np.where(times_t0==t0)[0][0] + 1\n",
        "  ab_temp = [a_minus_b2(t,g) for t in times_t0]\n",
        "  int1 = (t0/T)*np.trapz(ab_temp,times_t0,axis =0)\n",
        "  int2 = np.trapz(ab_temp[0:int_limit],times_t0[0:int_limit],axis =0)\n",
        "\n",
        "  return term1 - coeff2*(int1 - int2)"
      ]
    },
    {
      "cell_type": "code",
      "execution_count": null,
      "metadata": {
        "id": "e6uJHPH_Q42_"
      },
      "outputs": [],
      "source": [
        "##compute cumulants at different g and save\n",
        "df_ep_cumulants = pd.DataFrame(data =np.ones((len(gs)*len(times_t0),7)),columns = [\"g\",\"t0\",\"pos_var\",\"mom_var\",\"mom_mean\",\"pos_mean\",\"xcorr\"])\n",
        "\n",
        "for g_ind in enumerate(gs):\n",
        "  df_ep_cumulants.loc[(g_ind[0])*len(times_t0):(g_ind[0]+1)*len(times_t0),\"g\"] = g_ind[1]\n",
        "\n",
        "for gi in gs:\n",
        "  pos_var_temp = [position_variance_g(t0,gi) for t0 in times_t0]\n",
        "  x_corr_temp = [cross_correlation(t0,gi) for t0 in times_t0]\n",
        "  mom_var_temp = [momentum_variance(t0,gi) for t0 in times_t0]\n",
        "  mom_mean_temp = [mom_mean(t0,gi) for t0 in times_t0]\n",
        "  pos_mean_temp = [linear_position_cumulant(t0,gi) for t0 in times_t0]\n",
        "\n",
        "  df_ep_cumulants.loc[df_ep_cumulants[df_ep_cumulants.g==gi].index,\"t0\"] = times_t0\n",
        "  df_ep_cumulants.loc[df_ep_cumulants[df_ep_cumulants.g==gi].index,\"pos_var\"] = pos_var_temp\n",
        "  df_ep_cumulants.loc[df_ep_cumulants[df_ep_cumulants.g==gi].index,\"mom_var\"] = mom_var_temp\n",
        "  df_ep_cumulants.loc[df_ep_cumulants[df_ep_cumulants.g==gi].index,\"mom_mean\"] = mom_mean_temp\n",
        "  df_ep_cumulants.loc[df_ep_cumulants[df_ep_cumulants.g==gi].index,\"pos_mean\"] = pos_mean_temp\n",
        "  df_ep_cumulants.loc[df_ep_cumulants[df_ep_cumulants.g==gi].index,\"xcorr\"] = x_corr_temp\n"
      ]
    },
    {
      "cell_type": "code",
      "source": [
        "#save as csv\n",
        "df_ep_cumulants.to_csv(\"df_ep_cumulants.csv\")"
      ],
      "metadata": {
        "id": "J7RrFcBlxuXi"
      },
      "execution_count": null,
      "outputs": []
    },
    {
      "cell_type": "markdown",
      "metadata": {
        "id": "Cyo3K56B9qF6"
      },
      "source": [
        "##Plots"
      ]
    },
    {
      "cell_type": "code",
      "execution_count": null,
      "metadata": {
        "id": "3IscZ3jPDBKi"
      },
      "outputs": [],
      "source": [
        "##PLOT SETUP\n",
        "#fontsizes\n",
        "fontsize = 22\n",
        "fontsizeticks = 16\n",
        "fontsizetitles = 22\n",
        "\n",
        "#xlims\n",
        "xlimmax = 3\n",
        "xlimmin = -3\n",
        "\n",
        "ti = np.min(times_t0)\n",
        "tf = np.max(times_t0)\n",
        "\n",
        "tlim = (ti,tf)\n",
        "\n",
        "titlepad = 5\n",
        "titlex = 0.07\n",
        "titley = 0.88\n",
        "\n",
        "# Plotting the graphs\n",
        "#COLORS\n",
        "c2 = \"#a6cee3\" #lightblue\n",
        "c3 = \"#33a02c\" #dark green\n",
        "c1 = \"#1f78b4\" #darkblue\n",
        "c4 = \"#b2df8a\" #light green\n",
        "\n",
        "#linewidth\n",
        "lw = 3\n",
        "\n",
        "#axes formatting\n",
        "def format_dist_axes(ax):\n",
        "\n",
        "  #ax.patch.set_alpha(0)\n",
        "  #ax.yaxis.tick_right()\n",
        "  ax.tick_params(axis='x', labelsize=fontsizeticks)\n",
        "  ax.tick_params(axis='y', labelsize=fontsizeticks)\n",
        "  #ax.tick_params(labeltop='off', labelright='off')\n",
        "\n",
        "  ax.set_ylim((-0.01,0.8))\n",
        "  ax.set_xlim((xlimmin,xlimmax))\n",
        "  ax.spines['bottom'].set_zorder(1000)\n",
        "\n",
        "def format_axes(ax,fontsize):\n",
        "\n",
        "  ax.set_xlim(tlim)\n",
        "  ax.set_xlabel(r\"$\\mathrm{t}$\",fontsize = fontsizetitles)\n",
        "\n",
        "  #ax.set_xticklabels(labels = [0,1,2,3,4,5],fontsize=10)\n",
        "  ax.tick_params(axis='y', labelsize=fontsizeticks)\n",
        "  ax.tick_params(axis='x', labelsize=fontsizeticks)\n",
        "  return ax\n",
        "\n",
        "#format axes\n",
        "def format_log_axes(ax):\n",
        "  ax.set_xscale('log')\n",
        "  ax.invert_xaxis()\n",
        "  #ax.set_ylim((4.6,5.3))\n",
        "  ax.set_xlim((0.13,(8e-7)))\n",
        "  ax.tick_params(axis='y', labelsize=fontsizeticks)\n",
        "  #ax.tick_params(axis='x', labelsize=fontsizeticks)\n",
        "  #ax.set_ylabel(r\"$\\mathcal{E}$\",fontsize = fontsizetitles)\n"
      ]
    },
    {
      "cell_type": "markdown",
      "metadata": {
        "id": "ahhyH2dg1TdQ"
      },
      "source": [
        "###Cumulants"
      ]
    },
    {
      "cell_type": "code",
      "execution_count": null,
      "metadata": {
        "id": "rne3pgiDWi1e"
      },
      "outputs": [],
      "source": [
        "df_ep_cumulants = pd.read_csv(\"df_ep_cumulants.csv\",index_col=0)\n",
        "cumulant_plot_times = df_ep_cumulants.t0.unique()\n",
        "cumulant_plot_times.sort()\n",
        "\n",
        "# Plotting the cumulants\n",
        "plt.figure(figsize=(15, 8))#, constrained_layout=True)\n",
        "\n",
        "# Create a 1x5 grid with different widths for the bottom row\n",
        "gs_cumulants = gridspec.GridSpec(2, 6, width_ratios=[1, 1, 1, 1,1,1], height_ratios=[1, 1])\n",
        "                              #hspace = 0.3,wspace = 2.3)\n",
        "                              #(1, 2, width_ratios=[6, 4], figure=fig)\n",
        "\n",
        "# position mean\n",
        "plt.subplot(gs_cumulants[0, 0:2])\n",
        "plt.plot(cumulant_plot_times,  df_ep_cumulants[df_ep_cumulants.g==g].pos_mean,lw=lw)\n",
        "plt.title('(a)',fontweight = \"bold\",fontsize = fontsizetitles,pad = titlepad,x = titlex, y =titley,zorder = 1000000)\n",
        "ax = format_axes(plt.gca(),fontsize)\n",
        "#ax.set_ylim((-0.05,1.2))\n",
        "ax.set_ylabel('Position Mean',fontsize = fontsizetitles)\n",
        "\n",
        "# position variance\n",
        "plt.subplot(gs_cumulants[0, 2:4])\n",
        "plt.plot(cumulant_plot_times, df_ep_cumulants[df_ep_cumulants.g==g].pos_var,lw=lw)\n",
        "plt.title('(b)',fontweight = \"bold\",fontsize = fontsizetitles,pad = titlepad,x = titlex, y =titley,zorder = 1000000)\n",
        "ax = format_axes(plt.gca(),fontsize)\n",
        "ax.set_ylabel('Position Variance',fontsize = fontsizetitles)\n",
        "\n",
        "# cross corr\n",
        "plt.subplot(gs_cumulants[0, 4:])\n",
        "plt.plot(cumulant_plot_times, df_ep_cumulants[df_ep_cumulants.g==g].xcorr,lw=lw)\n",
        "plt.title('(c)',fontweight = \"bold\",fontsize = fontsizetitles,pad = titlepad,x = titlex, y =titley,zorder = 1000000)\n",
        "ax = format_axes(plt.gca(),fontsize)\n",
        "ax.set_ylabel('Cross Correlation',fontsize = fontsizetitles)\n",
        "\n",
        "\n",
        "# momentum mean\n",
        "plt.subplot(gs_cumulants[1,:3])\n",
        "plt.plot(cumulant_plot_times, df_ep_cumulants[df_ep_cumulants.g==g].mom_mean,lw=lw)\n",
        "#plt.plot(times_t0, [mom_mean_alt(t0) for t0 in times_t0],lw=lw)\n",
        "plt.title('(d)',fontweight = \"bold\",fontsize = fontsizetitles,pad = titlepad,x = titlex*(2/3), y =titley,zorder = 1000000)\n",
        "ax = format_axes(plt.gca(),fontsize)\n",
        "ax.set_ylabel('Momentum Mean',fontsize = fontsizetitles)\n",
        "\n",
        "# momentum variance\n",
        "mom_var = plt.subplot(gs_cumulants[1, 3:])\n",
        "plt.plot(cumulant_plot_times,  df_ep_cumulants[df_ep_cumulants.g==g].mom_var,lw=lw)\n",
        "plt.title('(e)',fontweight = \"bold\",fontsize = fontsizetitles,pad = titlepad,x = titlex*(2/3), y =titley,zorder = 1000000)\n",
        "ax = format_axes(plt.gca(),fontsize)\n",
        "ax.set_ylabel('Momentum Variance',fontsize = fontsizetitles)\n",
        "\n",
        "plt.tight_layout()\n",
        "\n",
        "#plt.show()\n",
        "plt.savefig(\"ep_cumulants.png\")"
      ]
    },
    {
      "cell_type": "markdown",
      "metadata": {
        "id": "dHBFV2-p1X5p"
      },
      "source": [
        "###Distribution plots\n"
      ]
    },
    {
      "cell_type": "code",
      "execution_count": null,
      "metadata": {
        "id": "AHsinVgvIuGT"
      },
      "outputs": [],
      "source": [
        "\n",
        "#function to get underdamped distribution\n",
        "def distribution(t0):\n",
        "  t2 = round(t0*(epsilon**2),dps)\n",
        "  dist = df[df.t==t2].UDpdf.to_numpy()\n",
        "  return dist\n",
        "\n",
        "#function to get underdamped drift\n",
        "def optimal_drift(t0):\n",
        "  t2 = round(t0*(epsilon**2),dps)\n",
        "  drift_temp = df[df.t==t2].UDdrift.to_numpy()\n",
        "  return drift_temp"
      ]
    },
    {
      "cell_type": "code",
      "execution_count": null,
      "metadata": {
        "colab": {
          "base_uri": "https://localhost:8080/",
          "height": 575
        },
        "id": "bmvtPoNr9LPF",
        "outputId": "dc2735cd-1f5e-4a71-de8f-92fd46773393"
      },
      "outputs": [
        {
          "output_type": "display_data",
          "data": {
            "text/plain": [
              "<Figure size 800x650 with 6 Axes>"
            ],
            "image/png": "[encoded data removed]"
          },
          "metadata": {}
        }
      ],
      "source": [
        "\n",
        "def plot_pdf_nucleation(tcurr,title,labels,loc):\n",
        "  '''This functions plots a distribution and labels it\n",
        "\n",
        "  input:\n",
        "  -tcurr: the time in terms of t0 to plot\n",
        "  -title: title of the graph (if using)\n",
        "  -label: label of the panel\n",
        "  -loc: location as a matplotlib subplot code (or gridspec)\n",
        "\n",
        "  output:\n",
        "  -plot in location given by loc with the overdamped(in orange)\n",
        "  and underdamped (in blue) of the marginal density of the position\n",
        "  '''\n",
        "\n",
        "  # t0 distribution\n",
        "  plt.subplot(loc)\n",
        "  plt.title(title, loc = \"center\", fontsize=fontsizetitles)\n",
        "\n",
        "  plt.plot(q_axis(tcurr),distribution(tcurr),color=c1,lw=lw,  label =r\"$T=5$\",zorder = 10000)\n",
        "  plt.plot(q_axis(tcurr),rho(tcurr),color=\"orange\",lw=lw)\n",
        "\n",
        "  ax = plt.gca()\n",
        "  format_dist_axes(ax)\n",
        "\n",
        "  #ax.set_xticklabels([])\n",
        "  ax.tick_params(axis='y', labelsize=fontsizeticks)\n",
        "\n",
        "plt.figure(figsize=(8,6.5))\n",
        "plot_pdf_nucleation(0,\"$\\mathrm{t} = 0$\",None,231)\n",
        "plt.fill_between(q_axis(0),p_initial(q_axis(0)),alpha = 0.5)\n",
        "plt.gca().set_xticklabels([])\n",
        "plt.gca().set_ylabel(r\"$\\rho_t(q)$\",fontsize=fontsizetitles)\n",
        "plot_pdf_nucleation(0.2*T,\"$\\mathrm{t} = 0.2\\,\\mathrm{t}_f$\",None,232)\n",
        "plt.gca().set_xticklabels([])\n",
        "plt.gca().set_yticklabels([])\n",
        "plot_pdf_nucleation(0.5*T,\"$\\mathrm{t} = 0.5\\,\\mathrm{t}_f$\",None,233)\n",
        "plt.gca().set_xticklabels([])\n",
        "plt.gca().set_yticklabels([])\n",
        "plot_pdf_nucleation(0.6*T,\"$\\mathrm{t} = 0.6\\,\\mathrm{t}_f$\",None,234)\n",
        "plt.gca().set_ylabel(r\"$\\rho_t(q)$\",fontsize=fontsizetitles)\n",
        "plt.gca().set_xlabel(r\"$q$\",fontsize=fontsizetitles)\n",
        "plot_pdf_nucleation(0.8*T,\"$\\mathrm{t} = 0.8\\,\\mathrm{t}_f$\",None,235)\n",
        "plt.gca().set_yticklabels([])\n",
        "plt.gca().set_xlabel(r\"$q$\",fontsize=fontsizetitles)\n",
        "plot_pdf_nucleation(T,\"$\\mathrm{t} = \\mathrm{t}_f$\",None,236)\n",
        "plt.fill_between(q_axis(T),p_final(q_axis(T)),alpha = 0.5)\n",
        "plt.gca().set_xlabel(r\"$q$\",fontsize=fontsizetitles)\n",
        "plt.legend(labels = [\"Underdamped\",\"Overdamped\"],\n",
        "           prop={\"size\":fontsizeticks},\n",
        "           frameon = False,\n",
        "           loc = \"upper center\",\n",
        "           handlelength = 1)\n",
        "plt.gca().set_yticklabels([])\n",
        "\n",
        "plt.tight_layout()\n",
        "#plt.show()\n",
        "plt.savefig(\"ep_distributions_T2.pdf\")"
      ]
    },
    {
      "cell_type": "markdown",
      "source": [
        "###Total Cost Plot"
      ],
      "metadata": {
        "id": "54OHzoBccHNu"
      }
    },
    {
      "cell_type": "code",
      "source": [
        "#append the csvs\n",
        "#df5_cost = pd.read_csv(\"df_ep_costsT5_v3.csv\",index_col =0)\n",
        "#df1_cost = pd.read_csv(\"df_ep_costsT1_v3.csv\",index_col =0)\n",
        "#df50_cost = pd.read_csv(\"df_ep_costsT50_v4.csv\",index_col =0)\n",
        "df2_cost = pd.read_csv(\"df_ep_costsT2.csv\",index_col =0)\n",
        "\n",
        "DFTEMP = pd.read_csv(\"ep_costs_v5.csv\",index_col =0) #pd.concat([df1_cost,df5_cost])\n",
        "df_ep_cost_all = pd.concat([DFTEMP,df2_cost])\n",
        "df_ep_cost_all = df_ep_cost_all.reset_index(drop=True)\n",
        "df_ep_cost_all.to_csv(\"ep_costs_v6.csv\")"
      ],
      "metadata": {
        "id": "QOVc-XSEoyRY"
      },
      "execution_count": null,
      "outputs": []
    },
    {
      "cell_type": "code",
      "source": [
        "#get the results from csv and plot\n",
        "\n",
        "#gridspec\n",
        "gs_costs = gridspec.GridSpec(3, 1, width_ratios=[1], height_ratios=[1.3, 1, 1])\n",
        "\n",
        "\n",
        "df_ep_cost_all = pd.read_csv(\"ep_costs_v6.csv\",index_col=0)\n",
        "\n",
        "plt.figure(figsize = (8,7))\n",
        "\n",
        "plt.subplot(gs_costs[0])\n",
        "plt.plot(df_ep_cost_all[df_ep_cost_all.Tf==2].g,df_ep_cost_all[df_ep_cost_all.Tf==2].EPcost,label=r\"EP Cost\")#,yerr=0.04,ecolor=\"black\",capsize=4,elinewidth=1,label=r\"EP cost $\\pm 0.04$\")\n",
        "plt.plot(df_ep_cost_all[df_ep_cost_all.Tf==2].g,df_ep_cost_all[df_ep_cost_all.Tf==2].Firstterm,label=r\"Overdamped Bound\")#,yerr=0.04,ecolor=\"black\",capsize=4,elinewidth=1,label=r\"EP cost $\\pm 0.04$\")\n",
        "plt.plot(df_ep_cost_all[df_ep_cost_all.Tf==2].g,(1+df_ep_cost_all[df_ep_cost_all.Tf==2].g)*df_ep_cost_all[df_ep_cost_all.Tf==2].ODBound,linestyle=\"dashed\",lw=1,label=r\"$\\mathcal{W}_2$-distance\")#,yerr=0.04,ecolor=\"black\",capsize=4,elinewidth=1,label=r\"EP cost $\\pm 0.04$\")\n",
        "ax = plt.gca()\n",
        "format_log_axes(ax)\n",
        "ax.set_xticklabels([]) #remove x axis lables\n",
        "#ax.set_ylabel(r\"$\\mathcal{E}$\",fontsize = fontsizetitles)\n",
        "ax.minorticks_off()\n",
        "ax2 = ax.twinx()\n",
        "ax2.set_ylabel(r\"$\\mathrm{t}_f=2$\",rotation=270,fontsize = fontsizetitles,labelpad = 30)\n",
        "ax2.set_yticks([])\n",
        "\n",
        "plt.subplot(gs_costs[1])\n",
        "plt.plot(df_ep_cost_all[df_ep_cost_all.Tf==5].g,df_ep_cost_all[df_ep_cost_all.Tf==5].EPcost,label=r\"EP Cost\")#,yerr=0.04,ecolor=\"black\",capsize=4,elinewidth=1,label=r\"EP cost $\\pm 0.04$\")\n",
        "plt.plot(df_ep_cost_all[df_ep_cost_all.Tf==5].g,df_ep_cost_all[df_ep_cost_all.Tf==5].Firstterm,label=r\"Overdamped Bound\")#,yerr=0.04,ecolor=\"black\",capsize=4,elinewidth=1,label=r\"EP cost $\\pm 0.04$\")\n",
        "plt.plot(df_ep_cost_all[df_ep_cost_all.Tf==5].g,(1+df_ep_cost_all[df_ep_cost_all.Tf==5].g)*df_ep_cost_all[df_ep_cost_all.Tf==5].ODBound,linestyle=\"dashed\",lw=1,label=r\"$\\mathcal{W}_2$-distance\")#,yerr=0.04,ecolor=\"black\",capsize=4,elinewidth=1,label=r\"EP cost $\\pm 0.04$\")\n",
        "plt.ylim((5.1,6.05))\n",
        "format_log_axes(plt.gca())\n",
        "ax = plt.gca()\n",
        "ax.set_xticklabels([]) #remove x axis lables\n",
        "ax.set_ylabel(r\"Mean Entropy Production\",fontsize = fontsizetitles,labelpad =18)\n",
        "#ax.set_ylabel(r\"$\\mathcal{E}$\", fontsize=fontsizetitles)\n",
        "ax.minorticks_off()\n",
        "ax2 = ax.twinx()\n",
        "ax2.set_ylabel(r\"$\\mathrm{t}_f=5$\",rotation=270, fontsize=fontsizetitles,labelpad = 30)\n",
        "ax2.set_yticks([])\n",
        "\n",
        "#####\n",
        "plt.subplot(gs_costs[2])\n",
        "plt.plot(df_ep_cost_all[df_ep_cost_all.Tf==50].g,df_ep_cost_all[df_ep_cost_all.Tf==50].EPcost,label=r\"Average Entropy Production\")#,yerr=0.04,ecolor=\"black\",capsize=4,elinewidth=1,label=r\"EP cost $\\pm 0.04$\")\n",
        "plt.plot(df_ep_cost_all[df_ep_cost_all.Tf==50].g,df_ep_cost_all[df_ep_cost_all.Tf==50].Firstterm,label=r\"Overdamped Bound\")#,yerr=0.04,ecolor=\"black\",capsize=4,elinewidth=1,label=r\"EP cost $\\pm 0.04$\")\n",
        "plt.plot(df_ep_cost_all[df_ep_cost_all.Tf==50].g,(1+df_ep_cost_all[df_ep_cost_all.Tf==50].g)*df_ep_cost_all[df_ep_cost_all.Tf==50].ODBound,linestyle=\"dashed\",lw=1,label=r\"Squared $\\mathcal{W}_2$-distance\")#,yerr=0.04,ecolor=\"black\",capsize=4,elinewidth=1,label=r\"EP cost $\\pm 0.04$\")\n",
        "plt.ylim((0.51,0.585))\n",
        "plt.legend(prop = {\"size\": fontsizeticks},handlelength=1,loc = \"lower right\")\n",
        "ax = plt.gca()\n",
        "format_log_axes(ax)\n",
        "ax.set_xlabel(r\"$g$\",fontsize = fontsizetitles)\n",
        "#ax.set_ylabel(r\"$\\mathcal{E}$\",fontsize = fontsizetitles)\n",
        "ax.tick_params(axis='x', labelsize=fontsizeticks)\n",
        "ax.minorticks_off()\n",
        "ax2 = ax.twinx()\n",
        "ax2.set_ylabel(r\"$\\mathrm{t}_f=50$\",rotation=270, fontsize=fontsizetitles,labelpad = 30)\n",
        "ax2.set_yticks([])\n",
        "\n",
        "plt.subplots_adjust(left  = 0.2 , # the left side of the subplots of the figure\n",
        "                    right = 0.9  ,  # the right side of the subplots of the figure\n",
        "                    bottom = 0.12,   # the bottom of the subplots of the figure\n",
        "                    top = 0.95,      # the top of the subplots of the figure\n",
        "                    wspace = 0.2,   # the amount of width reserved for blank space between subplots\n",
        "                    hspace = 0.05)   # the amount of height reserved for white space between subplots\n",
        "\n",
        "plt.savefig(\"ep_cost_all.eps\")\n",
        "plt.savefig(\"ep_cost_all.pdf\")\n",
        "plt.savefig(\"ep_cost_all.png\")\n",
        "plt.close()"
      ],
      "metadata": {
        "colab": {
          "base_uri": "https://localhost:8080/"
        },
        "id": "4ieLQk7acJEq",
        "outputId": "3dd01561-b14b-4c56-9e7a-14cc53f254a1"
      },
      "execution_count": null,
      "outputs": [
        {
          "output_type": "stream",
          "name": "stderr",
          "text": [
            "WARNING:matplotlib.backends.backend_ps:The PostScript backend does not support transparency; partially transparent artists will be rendered opaque.\n"
          ]
        }
      ]
    },
    {
      "cell_type": "markdown",
      "metadata": {
        "id": "gDH8S3KW1v0G"
      },
      "source": [
        "##Evolution by the Underdamped Dynamics"
      ]
    },
    {
      "cell_type": "markdown",
      "metadata": {
        "id": "vrfks0Ai4egs"
      },
      "source": [
        "In non-dimensional coordinates, the underdamped evolution follows\n",
        "\n",
        "\\begin{equation}\n",
        "\\begin{split}\n",
        "d q_t &= \\varepsilon(p_t- g\\varepsilon\\partial U(q_t)dt + \\sqrt{2g}d \\omega^{(1)}_t) \\\\\n",
        "d p_t &= - \\left(p_t+\\varepsilon\\partial U(q_t)\\right)dt + \\sqrt{2}d \\omega^{(2)}_t\n",
        "\\end{split}\n",
        "\\end{equation}"
      ]
    },
    {
      "cell_type": "code",
      "execution_count": null,
      "metadata": {
        "id": "TdWt2vPsA_Kp"
      },
      "outputs": [],
      "source": [
        "\n",
        "#function to get underdamped distribution\n",
        "def distribution(t0):\n",
        "  t2 = round(t0*(epsilon**2),dps)\n",
        "  dist_temp = df[df.t==t2].UDpdf.to_numpy()\n",
        "  return dist_temp\n",
        "\n",
        "#function to get underdamped drift\n",
        "def optimal_drift(t0):\n",
        "  t2 = round(t0*(epsilon**2),dps)\n",
        "  drift_temp = df[df.t==t2].UDdrift.to_numpy()\n",
        "  return drift_temp\n",
        "\n",
        "#function for interpolated dsigma\n",
        "def dsigma_interp(t0,q):\n",
        "  t2 = round(epsilon**2*t0,dps)\n",
        "  q_temp = q_axis(t0)\n",
        "  dsig_temp = dsigma(t0)\n",
        "  w_temp = rho(t0)\n",
        "\n",
        "  interp_dsig = sci.splrep(q_temp, dsig_temp,w = w_temp,k=3)\n",
        "  return sci.splev(q,interp_dsig)\n",
        "\n",
        "#function for interpolated DU\n",
        "def underdamped_drift_interp_function(t0,g):\n",
        "\n",
        "  q_temp = q_axis(t0)\n",
        "\n",
        "  w_temp = distribution(t0)\n",
        "  dsig_temp_underdamped = optimal_drift(t0)\n",
        "  #dsigout = generic_filter(dsig_temp_underdamped,sc.mean,size=100)\n",
        "  interp_dsig_underdamped = sci.splrep(q_temp, dsig_temp_underdamped, w=w_temp, k=5)\n",
        "\n",
        "  return interp_dsig_underdamped\n",
        "\n",
        "def underdamped_drift_interp(t0,q,g):\n",
        "\n",
        "  return -sci.splev(q,underdamped_drift_interp_function(t0,g),ext=0)\n",
        "\n",
        "\n",
        "#function for derivative of interpolated DU\n",
        "def d_underdamped_drift_interp(t0,q,g):\n",
        "\n",
        "  return -sci.splev(q,underdamped_drift_interp_function(t0,g),der=1,ext=5)\n"
      ]
    },
    {
      "cell_type": "code",
      "execution_count": null,
      "metadata": {
        "colab": {
          "base_uri": "https://localhost:8080/",
          "height": 54
        },
        "id": "-MzCB2CaVItG",
        "outputId": "586c8f34-26cf-4e41-f043-2f86f6f2a425"
      },
      "outputs": [
        {
          "output_type": "display_data",
          "data": {
            "text/plain": [
              "<Figure size 800x600 with 0 Axes>"
            ]
          },
          "metadata": {}
        }
      ],
      "source": [
        "#set up plots\n",
        "#panel labels:\n",
        "label_titles = [\"(a)\",\"(b)\",\"(c)\",\"(d)\",\"(e)\",\"(f)\"]\n",
        "\n",
        "# Plotting the distributions\n",
        "fig_distributions = plt.figure(figsize=(8,6))\n",
        "\n",
        "#create plot grid\n",
        "gs_distributions = fig_distributions.add_gridspec(2, 3, width_ratios=[1, 1, 1], height_ratios=[1, 1])\n",
        "\n",
        "#what times to plot\n",
        "times_to_save = [0,0.2,0.4,0.6,0.8,1]\n",
        "times_to_save = np.round(times_to_save,4)\n",
        "\n",
        "hist_plot_titles = [f\"t = {times_to_save[j]}\"+r\"$\\,t_f$\" for j in range(0,len(times_to_save))]\n",
        "\n",
        "#function for plotting\n",
        "def plot_distributions_ep(plot_index,underdamped_data,overdamped_data,tcurr):\n",
        "\n",
        "  \"\"\"\n",
        "  Function that plots the histogram, underdamped and overdamped distributions in a lil square\n",
        "\n",
        "  input:\n",
        "  -plot_index: where to put the plot\n",
        "  -underdamped_data,overdamped_data: histogram data\n",
        "  -tcurr: current t0\n",
        "  \"\"\"\n",
        "\n",
        "\n",
        "  x_ind = int(np.floor(plot_index/3))\n",
        "  y_ind = plot_index % 3\n",
        "  #get plot location\n",
        "  ax = fig_distributions.add_subplot(gs_distributions[x_ind,y_ind])\n",
        "  ax.set_title(hist_plot_titles[plot_index], loc = \"center\", fontsize=fontsizetitles)\n",
        "  ax.text(-2.6,0.5,label_titles[plot_index],fontsize = fontsizetitles)\n",
        "  #plot the histograms\n",
        "  ax.hist(underdamped_data, range=(xmin,xmax), color = c1, alpha = 0.5,bins = 100,density = True)\n",
        "  #ax.hist(overdamped_data, color = \"orange\", alpha = 0.5,bins =30,density = True)\n",
        "\n",
        "  ax.plot(q_axis(tcurr),distribution(tcurr),color=c1,lw=lw,  label =r\"$T=2$\",zorder = 10000)\n",
        "  ax.plot(q_axis(tcurr),rho(tcurr),color=\"orange\",lw=lw)\n",
        "\n",
        "  #format the axes\n",
        "  format_dist_axes(ax)\n",
        "  ax.set_ylim((-0.01,0.6))\n",
        "\n",
        "  ax.tick_params(axis='y', labelsize=fontsizeticks)\n",
        "  if x_ind ==0:\n",
        "    ax.set_xticklabels([])\n",
        "  else:\n",
        "    ax.set_xlabel(r\"$q$\",fontsize = fontsizetitles)\n",
        "\n",
        "  if y_ind == 0:\n",
        "    ax.set_ylabel(r\"$\\rho(q,t)$\",fontsize = fontsizetitles)\n"
      ]
    },
    {
      "cell_type": "code",
      "source": [
        "##SET UP: RUN BEFORE THE SIMULATIONS\n",
        "#set up dataframe for cumulant results\n",
        "df_ep_cumulants_exp = pd.DataFrame(columns = [\"g\",\"t0\",\"pos_var\",\"mom_var\",\"mom_mean\",\"pos_mean\",\"xcorr\",\"OD_mean\",\"OD_var\"])\n",
        "\n",
        "##Evolve the underdamped dynamics using EM SCHEME\n",
        "plot_index = 0\n",
        "\n",
        "samples = 100\n",
        "\n",
        "evo_choice = np.linspace(xmin,xmax,samples*10) #starting points to choose from for histograms\n",
        "sample_weights = p_initial(evo_choice)\n",
        "sample_weights /= sum(sample_weights)\n",
        "\n",
        "x_evo = npr.choice(evo_choice, size = samples, p = sample_weights)\n",
        "q_evo_UD_prev = npr.choice(evo_choice, size = samples, p = sample_weights) #position from assigned initial dist.\n",
        "p_evo_UD_prev = npr.randn(samples) #momentum, independent standard Gaussian samples\n",
        "\n",
        "\n",
        "#compute mean and variance of p and q using MLE at t=0\n",
        "covmat = np.cov(q_evo_UD_prev,p_evo_UD_prev)\n",
        "\n",
        "df_ep_cumulants_exp.loc[len(df_ep_cumulants_exp)] = [g, times_t0[0],\n",
        "                                                     covmat[0,0],\n",
        "                                                     covmat[1,1],\n",
        "                                                     np.mean(p_evo_UD_prev),\n",
        "                                                     np.mean(q_evo_UD_prev),\n",
        "                                                     covmat[0,1],\n",
        "                                                     np.nanmean(x_evo),\n",
        "                                                     np.var(x_evo)]\n"
      ],
      "metadata": {
        "id": "Sd27p3Heeoyo"
      },
      "execution_count": null,
      "outputs": []
    },
    {
      "cell_type": "code",
      "execution_count": null,
      "metadata": {
        "id": "JH7k8iu7wp5q"
      },
      "outputs": [],
      "source": [
        "\n",
        "for i in range(0,len(times_t0)-1):\n",
        "\n",
        "  #plot the selected times\n",
        "  if (times_t0[i]/T in times_to_save):\n",
        "    plot_distributions_ep(plot_index,q_evo_UD_prev,x_evo,times_t0[i])\n",
        "    plot_index += 1\n",
        "\n",
        "  #overdamped\n",
        "  #evolution in t2\n",
        "  x_evo = x_evo - (h_step)*dsigma_interp(times_t0[i],x_evo) + np.sqrt(2*g*h_step)*npr.randn(samples)\n",
        "\n",
        "  #underdamped\n",
        "  #evolution in t0\n",
        "  h0_step = h_step/(epsilon**2)\n",
        "  q_evo_UD_new = q_evo_UD_prev + epsilon*h0_step*(p_evo_UD_prev-g*epsilon*underdamped_drift_interp(times_t0[i],q_evo_UD_prev,g)) + epsilon*np.sqrt(2*g*h0_step)*npr.randn(len(p_evo_UD_prev))\n",
        "  p_evo_UD_new = p_evo_UD_prev - (p_evo_UD_prev + epsilon*underdamped_drift_interp(times_t0[i],q_evo_UD_prev,g))*h0_step + np.sqrt(2*h0_step)*npr.randn(len(p_evo_UD_prev))\n",
        "\n",
        "  #remove escaped particles\n",
        "  q_evo_UD_new[q_evo_UD_new>xmax] = np.nan\n",
        "  q_evo_UD_new[q_evo_UD_new<xmin] = np.nan\n",
        "\n",
        "  #remove nans and infs\n",
        "  good_idx_q = np.argwhere(~np.isnan(q_evo_UD_new))\n",
        "  good_idx_p = np.argwhere(~np.isnan(p_evo_UD_new))\n",
        "\n",
        "  idx_out = np.intersect1d(good_idx_q,good_idx_p)\n",
        "  #go forward without nans and infs\n",
        "  q_evo_UD_prev = q_evo_UD_new[idx_out]\n",
        "  p_evo_UD_prev = p_evo_UD_new[idx_out]\n",
        "\n",
        "  covmat = np.cov(q_evo_UD_prev,p_evo_UD_prev)\n",
        "\n",
        "  #compute mean and variance of p and q using MLE\n",
        "  df_ep_cumulants_exp.loc[len(df_ep_cumulants_exp)] = [g, times_t0[i+1],\n",
        "                                                           covmat[0,0],\n",
        "                                                            covmat[1,1],\n",
        "                                                            np.mean(p_evo_UD_prev),\n",
        "                                                            np.mean(q_evo_UD_prev),\n",
        "                                                            covmat[0,1],\n",
        "                                                            np.nanmean(x_evo),\n",
        "                                                            np.var(x_evo)]\n",
        "\n"
      ]
    },
    {
      "cell_type": "code",
      "execution_count": null,
      "metadata": {
        "id": "TzfbdtbPb6Nk"
      },
      "outputs": [],
      "source": [
        "#add initial time plot\n",
        "plot_distributions_ep(plot_index,q_evo_UD_prev,x_evo,T);\n"
      ]
    },
    {
      "cell_type": "code",
      "execution_count": null,
      "metadata": {
        "id": "JOrIBRJ2WdRZ"
      },
      "outputs": [],
      "source": [
        "\n",
        "#add legend\n",
        "orange_line = mlines.Line2D([], [],color=\"orange\",lw=lw)\n",
        "blue_line = mlines.Line2D([], [],color=c1,lw=lw)\n",
        "legend = fig_distributions.legend(handles=[blue_line,orange_line],\n",
        "          labels = [\"Underdamped\",\"Overdamped\"],\n",
        "           #prop={\"size\":fontsizeticks},\n",
        "          fontsize = fontsizetitles,\n",
        "          frameon = False,\n",
        "          handlelength = 1,\n",
        "          ncols = 2,\n",
        "          loc=\"upper center\", bbox_to_anchor=(0.5, 0))\n",
        "\n",
        "\n",
        "bbox = legend.get_window_extent(fig_distributions.canvas.get_renderer()).transformed(fig_distributions.transFigure.inverted())\n",
        "fig_distributions.tight_layout(rect=(0, bbox.y1, 1, 1), h_pad=0.5, w_pad=0.5)\n",
        "\n",
        "\n",
        "#format\n",
        "fig_distributions\n"
      ]
    },
    {
      "cell_type": "code",
      "source": [
        "fig_distributions.savefig(\"ep_histogram.pdf\")\n"
      ],
      "metadata": {
        "id": "w-U_dOHKTyzE"
      },
      "execution_count": null,
      "outputs": []
    },
    {
      "cell_type": "code",
      "execution_count": null,
      "metadata": {
        "colab": {
          "base_uri": "https://localhost:8080/",
          "height": 486
        },
        "id": "l93pchld1jVp",
        "outputId": "7e235720-2b7a-4266-92fb-33c3c5782dc5"
      },
      "outputs": [
        {
          "output_type": "display_data",
          "data": {
            "text/plain": [
              "<Figure size 640x480 with 1 Axes>"
            ],
            "image/png": "[encoded data removed]"
          },
          "metadata": {}
        }
      ],
      "source": [
        "(n, bins, patches) = plt.hist(q_evo_UD_prev,bins =30,density = True, label=\"Underdamped\")\n",
        "plt.hist(x_evo,bins =30,density = True, label=\"Overdamped\",alpha=0.6)\n",
        "plt.plot(q_axis(T),p_final(q_axis(T)),label=\"Assigned Final\")\n",
        "\n",
        "plt.legend()\n",
        "plt.xlabel(\"q\")\n",
        "plt.ylabel(r\"$\\rho_{t_f}(q)$\")\n",
        "plt.title(rf\"Evolutions at $\\varepsilon={epsilon}$\")\n",
        "\n",
        "plt.show()"
      ]
    },
    {
      "cell_type": "code",
      "execution_count": null,
      "metadata": {
        "id": "aLv6-JCKe4ob"
      },
      "outputs": [],
      "source": [
        "#save the computed cumulants\n",
        "df_ep_cumulants_exp.to_csv(\"ep_cumulants_simulated.csv\")\n"
      ]
    },
    {
      "cell_type": "code",
      "execution_count": null,
      "metadata": {
        "colab": {
          "base_uri": "https://localhost:8080/",
          "height": 744
        },
        "id": "wWflFQirJ_I-",
        "outputId": "c064c808-7a43-432f-f9e4-34505e93e3dd"
      },
      "outputs": [
        {
          "output_type": "stream",
          "name": "stderr",
          "text": [
            "WARNING:matplotlib.backends.backend_ps:The PostScript backend does not support transparency; partially transparent artists will be rendered opaque.\n"
          ]
        },
        {
          "output_type": "display_data",
          "data": {
            "text/plain": [
              "<Figure size 900x700 with 5 Axes>"
            ],
            "image/png": "[encoded data removed]"
          },
          "metadata": {}
        }
      ],
      "source": [
        "titlex = 0.1\n",
        "#cumulants compared to experimental result\n",
        "df_ep_cumulants = pd.read_csv(\"ep_cumulants.csv\",index_col=0)\n",
        "df_ep_cumulants_exp = pd.read_csv(\"ep_cumulants_simulated.csv\",index_col=0)\n",
        "c2_cumulants = \"#41b6c4\"\n",
        "\n",
        "times_evolution = df_ep_cumulants_exp.t0.unique()\n",
        "cumulant_plot_times = df_ep_cumulants[df_ep_cumulants.g==g].t0.unique()\n",
        "\n",
        "\n",
        "# Plotting\n",
        "plt.figure(figsize=(9, 7))#, constrained_layout=True)\n",
        "\n",
        "# Create a 1x5 grid with different widths for the bottom row\n",
        "gs_cumulants = gridspec.GridSpec(2, 6, width_ratios=[1, 1, 1, 1,1,1], height_ratios=[1, 1])\n",
        "                              #hspace = 0.3,wspace = 2.3)\n",
        "                              #(1, 2, width_ratios=[6, 4], figure=fig)\n",
        "\n",
        "\n",
        "# position mean\n",
        "plt.subplot(gs_cumulants[0, 0:2])\n",
        "plt.plot(cumulant_plot_times,  df_ep_cumulants[df_ep_cumulants.g==0.01].pos_mean,color=c1,lw=lw,label=\"Predicted\")\n",
        "plt.plot(times_evolution, df_ep_cumulants_exp.pos_mean,lw=lw,color=c2_cumulants,linestyle=\"dashed\",label=\"Simulated\")\n",
        "plt.plot(times_evolution, df_ep_cumulants_exp.OD_mean,lw=lw,color = \"orange\",label=\"Overdamped\")\n",
        "plt.title('(a)',fontweight = \"bold\",fontsize = fontsizetitles-2,pad = titlepad,x = titlex, y =titley,zorder = 1000000)\n",
        "ax = format_axes(plt.gca(),fontsize)\n",
        "ax.set_ylabel('Position Mean',fontsize = fontsizetitles-2)\n",
        "handles,labels = ax.get_legend_handles_labels()\n",
        "ax.set_ylim((-0.2,1.2))\n",
        "ax.set_xlabel(r'$t$',fontsize = fontsizetitles-2)\n",
        "\n",
        "# position variance\n",
        "plt.subplot(gs_cumulants[0, 2:4])\n",
        "plt.plot(cumulant_plot_times, df_ep_cumulants[df_ep_cumulants.g==0.01].pos_var,color=c1,lw=lw)\n",
        "plt.plot(times_evolution, df_ep_cumulants_exp.pos_var,color=c2_cumulants,linestyle=\"dashed\",lw=lw)\n",
        "plt.plot(times_evolution, df_ep_cumulants_exp.OD_var,color=\"orange\",lw=lw)\n",
        "plt.title('(b)',fontweight = \"bold\",fontsize = fontsizetitles-2,pad = titlepad,x = titlex, y =titley,zorder = 1000000)\n",
        "ax = format_axes(plt.gca(),fontsize)\n",
        "ax.set_ylabel('Position Variance',fontsize = fontsizetitles-2)\n",
        "ax.set_xlabel(r'$t$',fontsize = fontsizetitles-2)\n",
        "\n",
        "# cross corr\n",
        "plt.subplot(gs_cumulants[0, 4:])\n",
        "plt.plot(cumulant_plot_times, df_ep_cumulants[df_ep_cumulants.g==0.01].xcorr,color=c1,lw=lw)\n",
        "plt.plot(times_evolution, df_ep_cumulants_exp.xcorr,color=c2_cumulants,linestyle=\"dashed\",lw=lw)\n",
        "plt.title('(c)',fontweight = \"bold\",fontsize = fontsizetitles-2,pad = titlepad,x = titlex, y =titley,zorder = 1000000)\n",
        "ax = format_axes(plt.gca(),fontsize)\n",
        "ax.set_ylabel('Cross Correlation',fontsize = fontsizetitles-2)\n",
        "ax.set_xlabel(r'$t$',fontsize = fontsizetitles-2)\n",
        "\n",
        "\n",
        "# momentum mean\n",
        "plt.subplot(gs_cumulants[1,:3])\n",
        "plt.plot(cumulant_plot_times, df_ep_cumulants[df_ep_cumulants.g==0.01].mom_mean,color=c1,lw=lw)\n",
        "plt.plot(times_evolution, df_ep_cumulants_exp.mom_mean,color=c2_cumulants,linestyle=\"dashed\",lw=lw)\n",
        "plt.title('(d)',fontweight = \"bold\",fontsize = fontsizetitles-2,pad = titlepad,x = titlex*(2/3), y =titley,zorder = 1000000)\n",
        "ax = format_axes(plt.gca(),fontsize)\n",
        "ax.set_xlabel(r'$t$',fontsize = fontsizetitles-2)\n",
        "ax.set_ylabel('Momentum Mean',fontsize = fontsizetitles-2)\n",
        "plt.legend(handles = handles, labels =[\"Predicted\",\"Computed\", \"Overdamped\"],prop={\"size\":fontsizeticks}\n",
        "           ,loc=\"upper center\")\n",
        "\n",
        "# momentum variance\n",
        "mom_var = plt.subplot(gs_cumulants[1, 3:])\n",
        "plt.plot(cumulant_plot_times,  df_ep_cumulants[df_ep_cumulants.g==0.01].mom_var,color=c1,lw=lw)\n",
        "plt.plot(times_evolution, df_ep_cumulants_exp.mom_var,color=c2_cumulants,linestyle=\"dashed\",lw=lw)\n",
        "plt.title('(e)',fontweight = \"bold\",fontsize = fontsizetitles-2,pad = titlepad,x = titlex*(2/3), y =titley,zorder = 1000000)\n",
        "ax = format_axes(plt.gca(),fontsize)\n",
        "ax.set_xlabel(r'$t$',fontsize = fontsizetitles-2)\n",
        "ax.set_ylabel('Momentum Variance',fontsize = fontsizetitles-2)\n",
        "\n",
        "plt.tight_layout()\n",
        "\n",
        "#plt.show()\n",
        "plt.savefig(\"ep_cumulants_histogram.pdf\")\n",
        "plt.savefig(\"ep_cumulants_histogram.eps\")"
      ]
    },
    {
      "cell_type": "code",
      "execution_count": null,
      "metadata": {
        "id": "T_AFqvyadbYw"
      },
      "outputs": [],
      "source": [
        "#momentum variance plot\n",
        "##momentum mean and var only\n",
        "\n",
        "df_ep_cumulants = pd.read_csv(\"df_ep_cumulants.csv\",index_col=0)\n",
        "\n",
        "times_t0 = df_ep_cumulants[df_ep_cumulants.g==0.0001].t0.unique()\n",
        "lw = 3\n",
        "\n",
        "c1_cumulants = \"#7fcdbb\"\n",
        "c2_cumulants = \"#41b6c4\"\n",
        "c3_cumulants = \"#2c7fb8\"\n",
        "c4_cumulants = \"#253494\"\n",
        "#\n",
        "\n",
        "cumulant_plot_times = df_ep_cumulants[df_ep_cumulants.g==0.0001].t0.unique()\n",
        "times_evolution = df_ep_cumulants_exp[df_ep_cumulants_exp.g==0.0001].t0.unique()\n",
        "\n",
        "\n",
        "plt.figure(figsize = (8,6))\n",
        "\n",
        "#format axes\n",
        "plt.plot(cumulant_plot_times,df_ep_cumulants[df_ep_cumulants.g==0.1].mom_var,label=r\"$g=10^{-1}$\",lw=lw,c = c1_cumulants)\n",
        "plt.plot(cumulant_plot_times,df_ep_cumulants[df_ep_cumulants.g==0.01].mom_var,label=r\"$g=10^{-2}$\",lw=lw,c = c2_cumulants)\n",
        "plt.plot(cumulant_plot_times,df_ep_cumulants[df_ep_cumulants.g==0.001].mom_var,label=r\"$g=10^{-3}$\",lw=lw,c = c3_cumulants)\n",
        "plt.plot(cumulant_plot_times,df_ep_cumulants[df_ep_cumulants.g==0.0001].mom_var,label=r\"$g=10^{-4}$\",lw=lw,c = c4_cumulants)\n",
        "\n",
        "plt.plot(times_evolution, df_ep_cumulants_exp[df_ep_cumulants_exp.g==0.0001].mom_var,\n",
        "         lw=lw,linestyle = \"dashed\", color=\"orange\")\n",
        "plt.ylabel(\"Momentum Variance\",fontsize=fontsizetitles)\n",
        "\n",
        "ax = plt.gca()\n",
        "format_axes(ax,fontsizetitles)\n",
        "ax.set_xlim(-0.05,5.05)\n",
        "\n",
        "ax1 = ax.inset_axes([0.9,1.03,2.5,0.1], transform=ax.transData)\n",
        "ax1.plot(cumulant_plot_times,df_ep_cumulants[df_ep_cumulants.g==0.1].mom_mean,label=r\"$g=10^{-1}$\",lw=2,c = c1_cumulants)\n",
        "ax1.plot(cumulant_plot_times,df_ep_cumulants[df_ep_cumulants.g==0.01].mom_mean,label=r\"$g=10^{-2}$\",lw=2,c = c2_cumulants)\n",
        "ax1.plot(cumulant_plot_times,df_ep_cumulants[df_ep_cumulants.g==0.001].mom_mean,label=r\"$g=10^{-3}$\",lw=2,c = c3_cumulants)\n",
        "ax1.plot(cumulant_plot_times,df_ep_cumulants[df_ep_cumulants.g==0.0001].mom_mean,label=r\"$g=10^{-4}$\",lw=2,c = c4_cumulants)\n",
        "\n",
        "ax1.plot(times_evolution, df_ep_cumulants_exp[df_ep_cumulants_exp.g==0.0001].mom_mean,\n",
        "         lw=lw,linestyle = \"dashed\", color=\"orange\")\n",
        "\n",
        "format_axes(ax1,fontsizetitles)\n",
        "\n",
        "ax1.set_ylabel(\"Mom. Mean\",fontsize=fontsizetitles)\n",
        "\n",
        "ax1.set_xlim(-0.05,5.05)\n",
        "#ax.set_ylim(0.97,1.155)\n",
        "\n",
        "plt.xlabel(r\"$\\mathrm{t}$\",fontsize=fontsizetitles)\n",
        "#ax.legend(bbox_to_anchor=(0.1, 0.972), bbox_transform=ax.transData,prop = {\"size\": fontsizeticks },frameon=True, ncol=2,loc = \"lower left\",handlelength=1)\n",
        "ax.legend(labels =[\"Predicted\",\"Computed\"],prop = {\"size\": fontsizeticks },\n",
        "          frameon=False, ncol=1,loc = \"upper right\",handlelength=2)\n",
        "\n",
        "\n",
        "plt.tight_layout()\n",
        "plt.savefig(\"ep_land_momentumplot.png\")\n",
        "#plt.savefig(\"ep_land_mom_cumulants.pdf\")\n",
        "#plt.savefig(\"ep_land_mom_cumulants.eps\")\n",
        "\n",
        "plt.close();\n"
      ]
    }
  ],
  "metadata": {
    "colab": {
      "collapsed_sections": [
        "Er5TNQb6Dxma",
        "EOHO-nmgnjrH",
        "7ymSo8FKD0rC",
        "q0YybBGvqxqI",
        "pN0ftJ2yr2VE",
        "8aPS6KAvgXYG",
        "Cyo3K56B9qF6"
      ],
      "provenance": []
    },
    "kernelspec": {
      "display_name": "Python 3",
      "name": "python3"
    },
    "language_info": {
      "name": "python"
    }
  },
  "nbformat": 4,
  "nbformat_minor": 0
}
